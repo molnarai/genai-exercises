{
 "cells": [
  {
   "cell_type": "markdown",
   "id": "66acdb44-db6b-4a71-8a5b-883bbff9d0a1",
   "metadata": {},
   "source": [
    "# Testing GenAI Endpoints"
   ]
  },
  {
   "cell_type": "markdown",
   "id": "b1cb0b3f-9888-44f1-bafd-1b905c9227cb",
   "metadata": {},
   "source": [
    "## OpenAI\n",
    "\n",
    "Please do not share the API key. Use responsibly: a couple of thousand requests is ok, hundredts of thousands may break the bank :)\n"
   ]
  },
  {
   "cell_type": "code",
   "execution_count": 3,
   "id": "b3df30b1-c7f4-4937-b0ab-bade6c9f9764",
   "metadata": {},
   "outputs": [],
   "source": [
    "import os\n",
    "import sys\n",
    "import json\n",
    "from openai import OpenAI, OpenAIError"
   ]
  },
  {
   "cell_type": "code",
   "execution_count": 1,
   "id": "d543e6c9-34fe-4a0a-a977-728936ae0fdb",
   "metadata": {},
   "outputs": [],
   "source": [
    "API_KEY_FILE = '/opt/truist_workshop_openai.apikey'"
   ]
  },
  {
   "cell_type": "code",
   "execution_count": 5,
   "id": "7876251b-5984-4900-bde3-9a29824fe2fd",
   "metadata": {},
   "outputs": [],
   "source": [
    "api_key = open(API_KEY_FILE, 'r', encoding='utf-8').read().strip()\n",
    "client = OpenAI(api_key = api_key)"
   ]
  },
  {
   "cell_type": "code",
   "execution_count": 7,
   "id": "bcc3f8c0-fcad-42de-b4d9-facdc4f8f0fb",
   "metadata": {},
   "outputs": [
    {
     "name": "stdout",
     "output_type": "stream",
     "text": [
      "Help on Completions in module openai.resources.completions object:\n",
      "\n",
      "class Completions(openai._resource.SyncAPIResource)\n",
      " |  Completions(client: 'OpenAI') -> 'None'\n",
      " |\n",
      " |  Method resolution order:\n",
      " |      Completions\n",
      " |      openai._resource.SyncAPIResource\n",
      " |      builtins.object\n",
      " |\n",
      " |  Methods defined here:\n",
      " |\n",
      " |  create(self, *, model: \"Union[str, Literal['gpt-3.5-turbo-instruct', 'davinci-002', 'babbage-002']]\", prompt: 'Union[str, List[str], Iterable[int], Iterable[Iterable[int]], None]', best_of: 'Optional[int] | NotGiven' = NOT_GIVEN, echo: 'Optional[bool] | NotGiven' = NOT_GIVEN, frequency_penalty: 'Optional[float] | NotGiven' = NOT_GIVEN, logit_bias: 'Optional[Dict[str, int]] | NotGiven' = NOT_GIVEN, logprobs: 'Optional[int] | NotGiven' = NOT_GIVEN, max_tokens: 'Optional[int] | NotGiven' = NOT_GIVEN, n: 'Optional[int] | NotGiven' = NOT_GIVEN, presence_penalty: 'Optional[float] | NotGiven' = NOT_GIVEN, seed: 'Optional[int] | NotGiven' = NOT_GIVEN, stop: 'Union[Optional[str], List[str], None] | NotGiven' = NOT_GIVEN, stream: 'Optional[Literal[False]] | Literal[True] | NotGiven' = NOT_GIVEN, stream_options: 'Optional[ChatCompletionStreamOptionsParam] | NotGiven' = NOT_GIVEN, suffix: 'Optional[str] | NotGiven' = NOT_GIVEN, temperature: 'Optional[float] | NotGiven' = NOT_GIVEN, top_p: 'Optional[float] | NotGiven' = NOT_GIVEN, user: 'str | NotGiven' = NOT_GIVEN, extra_headers: 'Headers | None' = None, extra_query: 'Query | None' = None, extra_body: 'Body | None' = None, timeout: 'float | httpx.Timeout | None | NotGiven' = NOT_GIVEN) -> 'Completion | Stream[Completion]'\n",
      " |\n",
      " |  with_raw_response = <functools.cached_property object>\n",
      " |      This property can be used as a prefix for any HTTP method call to return the\n",
      " |      the raw response object instead of the parsed content.\n",
      " |\n",
      " |      For more information, see https://www.github.com/openai/openai-python#accessing-raw-response-data-eg-headers\n",
      " |\n",
      " |  with_streaming_response = <functools.cached_property object>\n",
      " |      An alternative to `.with_raw_response` that doesn't eagerly read the response body.\n",
      " |\n",
      " |      For more information, see https://www.github.com/openai/openai-python#with_streaming_response\n",
      " |\n",
      " |  ----------------------------------------------------------------------\n",
      " |  Data and other attributes defined here:\n",
      " |\n",
      " |  __annotations__ = {}\n",
      " |\n",
      " |  ----------------------------------------------------------------------\n",
      " |  Methods inherited from openai._resource.SyncAPIResource:\n",
      " |\n",
      " |  __init__(self, client: 'OpenAI') -> 'None'\n",
      " |      Initialize self.  See help(type(self)) for accurate signature.\n",
      " |\n",
      " |  ----------------------------------------------------------------------\n",
      " |  Data descriptors inherited from openai._resource.SyncAPIResource:\n",
      " |\n",
      " |  __dict__\n",
      " |      dictionary for instance variables\n",
      " |\n",
      " |  __weakref__\n",
      " |      list of weak references to the object\n",
      "\n"
     ]
    }
   ],
   "source": [
    "help(client.completions)"
   ]
  },
  {
   "cell_type": "code",
   "execution_count": 14,
   "id": "8246cbf4-4817-46f1-869d-dc0232dc4b09",
   "metadata": {},
   "outputs": [
    {
     "data": {
      "text/plain": [
       "{'id': 'cmpl-ATA1AtzpuOjhywtyf3bmaoXaVhsLi',\n",
       " 'choices': [{'finish_reason': 'stop',\n",
       "   'index': 0,\n",
       "   'logprobs': None,\n",
       "   'text': \"\\n1. Eiffel Tower\\n2. Notre Dame Cathedral\\n3. Louvre Museum\\n4. Arc de Triomphe\\n5. Champs-Élysées\\n6. Sacré-Cœur Basilica\\n7. Luxembourg Gardens\\n8. Panthéon\\n9. Place des Vosges\\n10. Montmartre neighborhood\\n11. Seine River\\n12. Jardin des Plantes\\n13. Sainte-Chapelle\\n14. Musée d'Orsay\\n15. Place de la Concorde\\n16. Les Invalides\\n17. Pont Neuf\\n18. Île de la Cité\\n19. Palais-Royal\\n20. Place Vendôme\"}],\n",
       " 'created': 1731513384,\n",
       " 'model': 'gpt-3.5-turbo-instruct',\n",
       " 'object': 'text_completion',\n",
       " 'usage': {'completion_tokens': 146, 'prompt_tokens': 41, 'total_tokens': 187}}"
      ]
     },
     "metadata": {},
     "output_type": "display_data"
    }
   ],
   "source": [
    "prompt = \"\"\"\n",
    "You are a tour guide for furgal travelers.\n",
    "Create a list of the most popular tourist sites in the capitol of France\n",
    "that can be reached by public transit and are free of admission.\n",
    "\"\"\"\n",
    "\n",
    "response = client.completions.create(\n",
    "                model = \"gpt-3.5-turbo-instruct\",\n",
    "                prompt = prompt,\n",
    "                temperature = 0,\n",
    "                max_tokens = 300,\n",
    ")\n",
    "display(response.to_dict())"
   ]
  },
  {
   "cell_type": "code",
   "execution_count": 19,
   "id": "806a0204-cfa7-482d-8ccf-bfc2d3968415",
   "metadata": {},
   "outputs": [
    {
     "name": "stdout",
     "output_type": "stream",
     "text": [
      "\n",
      "1. Eiffel Tower\n",
      "2. Notre Dame Cathedral\n",
      "3. Louvre Museum\n",
      "4. Arc de Triomphe\n",
      "5. Champs-Élysées\n",
      "6. Sacré-Cœur Basilica\n",
      "7. Luxembourg Gardens\n",
      "8. Panthéon\n",
      "9. Place des Vosges\n",
      "10. Montmartre neighborhood\n",
      "11. Seine River\n",
      "12. Jardin des Plantes\n",
      "13. Sainte-Chapelle\n",
      "14. Musée d'Orsay\n",
      "15. Place de la Concorde\n",
      "16. Les Invalides\n",
      "17. Pont Neuf\n",
      "18. Île de la Cité\n",
      "19. Palais-Royal\n",
      "20. Place Vendôme\n"
     ]
    }
   ],
   "source": [
    "print(response.to_dict()['choices'][0]['text'])"
   ]
  },
  {
   "cell_type": "code",
   "execution_count": null,
   "id": "4bf01905-1e62-42b6-9b61-4f57ae3a2927",
   "metadata": {},
   "outputs": [],
   "source": []
  },
  {
   "cell_type": "markdown",
   "id": "40a02a4a-8988-4a89-88e6-4968670187e8",
   "metadata": {},
   "source": [
    "## Ollama (local endpoint)\n",
    "\n",
    "This enpoint is hosted locally on our GPU server. The first request may take longer because the Ollama server may need to load the model parameters onto the GPU.\n",
    "\n",
    "Currently only llama3.1 is available."
   ]
  },
  {
   "cell_type": "code",
   "execution_count": 26,
   "id": "171d969a-707c-45db-bf0f-c7bbbe45d010",
   "metadata": {},
   "outputs": [],
   "source": [
    "# from langchain_community.llms import Ollama\n",
    "from langchain_ollama import OllamaLLM, ChatOllama\n",
    "ollama_base_url = open('/opt/truist_workshop_ollama_base.url', 'r', encoding='utf-8').read().strip()"
   ]
  },
  {
   "cell_type": "code",
   "execution_count": 28,
   "id": "7fc30eeb-418f-4f86-ba14-83b9ccebc228",
   "metadata": {},
   "outputs": [],
   "source": [
    "llm = OllamaLLM(\n",
    "        base_url=ollama_base_url,\n",
    "        model=\"llama3.1\",\n",
    "        temperature=0,\n",
    "        max_tokens=1000,\n",
    "    )"
   ]
  },
  {
   "cell_type": "code",
   "execution_count": 31,
   "id": "7e444bba-151d-45d5-8a8e-e2c3ecbcccb8",
   "metadata": {},
   "outputs": [],
   "source": [
    "prompt = \"\"\"\n",
    "You are a tour guide for furgal travelers.\n",
    "Create a list of the most popular tourist sites in the capitol of France\n",
    "that can be reached by public transit and are free of admission.\n",
    "\"\"\"\n",
    "res = llm.generate([prompt])"
   ]
  },
  {
   "cell_type": "code",
   "execution_count": 37,
   "id": "27526123-e654-4523-b50c-ff887ec9934e",
   "metadata": {},
   "outputs": [
    {
     "data": {
      "text/plain": [
       "1"
      ]
     },
     "execution_count": 37,
     "metadata": {},
     "output_type": "execute_result"
    }
   ],
   "source": [
    "len(res.generations)"
   ]
  },
  {
   "cell_type": "code",
   "execution_count": 48,
   "id": "70839167-9bb1-49ef-8290-6444e79a6fac",
   "metadata": {},
   "outputs": [
    {
     "name": "stdout",
     "output_type": "stream",
     "text": [
      "Bonjour! As a tour guide for furry travelers, I'm delighted to share with you the most popular free attractions in Paris, the capital of France. Since your kind is accustomed to exploring on four legs, I've made sure to include only sites that can be reached by public transit and are accessible for our furry friends.\n",
      "\n",
      "Here's your list of must-visit destinations:\n",
      "\n",
      "1. **The Luxembourg Gardens** (Jardin du Luxembourg)\n",
      "\t* Metro: Saint-Sulpice or Odéon\n",
      "\t* Bus: 63, 70, or 86\n",
      "\t* This beautiful garden is a haven for dogs and their owners. Stroll through the gardens, visit the pond, and enjoy the scenic views.\n",
      "2. **The Champ de Mars**\n",
      "\t* Metro: Bir-Hakeim or École Militaire\n",
      "\t* Bus: 69 or 72\n",
      "\t* This large public park offers stunning views of the Eiffel Tower (which you can admire from a distance). It's also a great spot for a picnic with your furry friend.\n",
      "3. **The Canal Saint-Martin**\n",
      "\t* Metro: République or Oberkampf\n",
      "\t* Bus: 20, 24, or 75\n",
      "\t* Take a leisurely walk along the canal and enjoy the street performers, cafes, and charming atmosphere. Your dog will love the sights and smells!\n",
      "4. **The Place des Vosges**\n",
      "\t* Metro: Saint-Paul or Bastille\n",
      "\t* Bus: 29, 69, or 91\n",
      "\t* This historic square is a beautiful example of Parisian architecture. Take a stroll around the perimeter, visit the nearby cafes, and enjoy the lively atmosphere.\n",
      "5. **The Jardin des Plantes**\n",
      "\t* Metro: Jussieu or Censier-Dabny\n",
      "\t* Bus: 47, 67, or 91\n",
      "\t* This botanical garden is home to over 10,000 plant species and a small menagerie. Your dog will love the sights and smells of this green oasis.\n",
      "6. **The Pont des Arts**\n",
      "\t* Metro: Louvre-Rivoli or Pont Neuf\n",
      "\t* Bus: 21, 24, or 95\n",
      "\t* This pedestrian bridge offers stunning views of the Seine River and the city. It's a great spot for a photo opportunity with your furry friend.\n",
      "7. **The Square René Le Gall**\n",
      "\t* Metro: République or Oberkampf\n",
      "\t* Bus: 20, 24, or 75\n",
      "\t* This charming square is surrounded by cafes and shops. Take a stroll around the perimeter, visit the nearby cafes, and enjoy the lively atmosphere.\n",
      "\n",
      "Remember to always follow local rules and regulations regarding dogs in public spaces. Keep your furry friend on a leash and clean up after them. Bon voyage et bon séjour à Paris!\n"
     ]
    }
   ],
   "source": [
    "print(res.generations[0][0].text)"
   ]
  },
  {
   "cell_type": "code",
   "execution_count": null,
   "id": "d1f4a2dd-d5f0-447e-9d31-2defde8a308f",
   "metadata": {},
   "outputs": [],
   "source": []
  }
 ],
 "metadata": {
  "kernelspec": {
   "display_name": "Conda Python 3.12",
   "language": "python",
   "name": "conda-python3.12"
  },
  "language_info": {
   "codemirror_mode": {
    "name": "ipython",
    "version": 3
   },
   "file_extension": ".py",
   "mimetype": "text/x-python",
   "name": "python",
   "nbconvert_exporter": "python",
   "pygments_lexer": "ipython3",
   "version": "3.12.7"
  }
 },
 "nbformat": 4,
 "nbformat_minor": 5
}
